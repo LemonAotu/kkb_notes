{
 "cells": [
  {
   "cell_type": "markdown",
   "metadata": {},
   "source": [
    "# Machine Learning Matrix\n",
    "\n",
    "### Classification:\n",
    "- logistic regression\n",
    "- linear regression\n",
    "- decision tree\n",
    "- LDA\n",
    "- naive bayies\n",
    "- SVM\n",
    "- KNN\n",
    "- AdaBoost\n",
    "- XGBoost\n",
    "\n",
    "### Clustering\n",
    "- K-Means\n",
    "- EM cluster\n",
    "- Mean-shift \n",
    "- DBSCAN\n",
    "- layer cluster\n",
    "- PCA\n",
    "\n",
    "### Recommandation System\n",
    "##### Labeling : \n",
    "- SimpleTagBased\n",
    "- NormTagBased\n",
    "- TagBased-TFIDF\n",
    "\n",
    "##### Content based (static)\n",
    "\n",
    "##### collabertive filtering:\n",
    "- user-CF\n",
    "- Item-CF\n",
    "\n",
    "##### CTR prediction:\n",
    "- GBDT+LR \n",
    "- Wide&Deep\n",
    "- FM\n",
    "- FFM\n",
    "- DeepFM\n",
    "- NFm\n",
    "- Deep& cross\n",
    "- xDeepFM\n",
    "- DIN\n",
    "- DIEN\n",
    "- DSIN\n",
    "---\n",
    "\n",
    "## Personas:\n",
    "- Personas are fictional characters, which you create based upon your research in order to represent the different user types that might use your service, product, site, or brand in a similar way\n",
    "\n",
    "#### Role personas:\n",
    "- Unify user_id \n",
    "- sex\n",
    "- age\n",
    "- location\n",
    "- income\n",
    "- education\n",
    "- career\n",
    "#### Engage personas:\n",
    "- shopping preferrence\n",
    "- sensitive to big sell\n",
    "#### Function personas:\n",
    "- using time period\n",
    "- frequence\n",
    "- collections\n",
    "- clicking\n",
    "- rating\n",
    "\n",
    "## Loan-to-value ratio (LTV)\n",
    "* engaging\n",
    "* attraction\n",
    "* maintaining\n",
    "---\n",
    "### Algorithm: KMeans\n",
    "- K-Means is one of the most popular \"clustering\" algorithms. K-means stores $k$ centroids that it uses to define clusters. A point is considered to be in a particular cluster if it is closer to that cluster's centroid than any other centroid. \n",
    "\n",
    "- Implementation:\n",
    "    - 1. Inintialize multiple centriod randomly $ \\{ \\mu_1, \\mu_2, \\mu_3 ... \\mu_n \\} $\n",
    "    - 2. Repeat \n",
    "    \n",
    "            { \n",
    "            \n",
    "            $ foreach \\; c^{(i)} = arg\\; min_j ||x^{(i)} -\\mu_j||^2 $\n",
    "            \n",
    "            $ foreach \\; \\mu_j = \\frac{\\sum_{i=1}^{m} 1\\{ c^{(i)} = j \\} x^{(i)}}{\\sum_{i=1}^{m} 1\\{c^{(i)} = j \\}} $ \n",
    "            \n",
    "            }\n",
    "            \n",
    "---\n",
    "### Algorithm: Gaussian Mixture Model (GMM)\n",
    "- Gaussian mixture models are a probabilistic model for representing normally distributed subpopulations within an overall population. \n",
    "\n",
    "- Implementation:\n",
    "    - one-dimensional model :  \n",
    "    \n",
    "        $ p(x) = \\sum_{i=1}^{K}\\phi_i N(x|\\mu_i, \\sigma_i) $\n",
    "    \n",
    "        $ N(x|\\mu_i,\\sigma_i)  = \\frac{1}{\\sigma_i\\sqrt[2]{2\\pi}}exp(-\\frac{(x-\\mu_i)^2}{2\\sigma^2_i})$ \n",
    " \n",
    "        $ \\sum_{i=1}^{K} \\phi_1 = 1 $ \n",
    "    \n",
    "    - Multi-dimensional Model:\n",
    "        \n",
    "        $ p(x) = \\sum_{i=1}^{K}\\phi_i N( \\overrightarrow{x} \\  | \\ \\overrightarrow{\\mu_i}, \\sum_i) $\n",
    "        \n",
    "        $ N( \\overrightarrow{x} \\  | \\ \\overrightarrow{\\mu_i}, \\sum_i)  = \\frac{1}{\\sqrt[2]{(2\\pi)^K|\\sum_i|} exp(−2/1​(x−μ​i​)TΣi​−1(x−μ​i​)) $ \n",
    "        \n",
    "        $ \\sum_{i=1}^{K} \\phi_1 = 1 $ \n",
    "        \n",
    "---\n",
    "\n",
    "### Algorithm: Expectation–Maximization (EM) \n",
    "- EM is an iterative method to find (local) maximum likelihood or maximum a posteriori (MAP) estimates of parameters in statistical models, where the model depends on unobserved latent variables. \n",
    "- E: $ \\gamma(i,k) $ \n",
    "- M: $ \\pi_k , \\mu_k, \\sum_k $\n",
    "- Log-likelihood: ![function](https://blog.pluskid.org/latexrender/pictures/9921aae9b012b629ab6e96a945de39be.png)"
   ]
  },
  {
   "cell_type": "code",
   "execution_count": null,
   "metadata": {},
   "outputs": [],
   "source": []
  },
  {
   "cell_type": "code",
   "execution_count": null,
   "metadata": {},
   "outputs": [],
   "source": []
  },
  {
   "cell_type": "code",
   "execution_count": null,
   "metadata": {},
   "outputs": [],
   "source": []
  },
  {
   "cell_type": "code",
   "execution_count": null,
   "metadata": {},
   "outputs": [],
   "source": []
  },
  {
   "cell_type": "code",
   "execution_count": null,
   "metadata": {},
   "outputs": [],
   "source": []
  },
  {
   "cell_type": "code",
   "execution_count": null,
   "metadata": {},
   "outputs": [],
   "source": []
  },
  {
   "cell_type": "code",
   "execution_count": null,
   "metadata": {},
   "outputs": [],
   "source": []
  },
  {
   "cell_type": "code",
   "execution_count": null,
   "metadata": {},
   "outputs": [],
   "source": []
  },
  {
   "cell_type": "code",
   "execution_count": null,
   "metadata": {},
   "outputs": [],
   "source": []
  },
  {
   "cell_type": "code",
   "execution_count": null,
   "metadata": {},
   "outputs": [],
   "source": []
  },
  {
   "cell_type": "code",
   "execution_count": null,
   "metadata": {},
   "outputs": [],
   "source": []
  },
  {
   "cell_type": "code",
   "execution_count": null,
   "metadata": {},
   "outputs": [],
   "source": []
  },
  {
   "cell_type": "code",
   "execution_count": null,
   "metadata": {},
   "outputs": [],
   "source": []
  },
  {
   "cell_type": "code",
   "execution_count": null,
   "metadata": {},
   "outputs": [],
   "source": []
  },
  {
   "cell_type": "code",
   "execution_count": null,
   "metadata": {},
   "outputs": [],
   "source": []
  },
  {
   "cell_type": "code",
   "execution_count": null,
   "metadata": {},
   "outputs": [],
   "source": []
  },
  {
   "cell_type": "code",
   "execution_count": null,
   "metadata": {},
   "outputs": [],
   "source": []
  },
  {
   "cell_type": "code",
   "execution_count": null,
   "metadata": {},
   "outputs": [],
   "source": []
  },
  {
   "cell_type": "code",
   "execution_count": null,
   "metadata": {},
   "outputs": [],
   "source": []
  },
  {
   "cell_type": "code",
   "execution_count": null,
   "metadata": {},
   "outputs": [],
   "source": []
  },
  {
   "cell_type": "code",
   "execution_count": null,
   "metadata": {},
   "outputs": [],
   "source": []
  },
  {
   "cell_type": "code",
   "execution_count": null,
   "metadata": {},
   "outputs": [],
   "source": []
  },
  {
   "cell_type": "code",
   "execution_count": null,
   "metadata": {},
   "outputs": [],
   "source": []
  },
  {
   "cell_type": "code",
   "execution_count": null,
   "metadata": {},
   "outputs": [],
   "source": []
  },
  {
   "cell_type": "code",
   "execution_count": null,
   "metadata": {},
   "outputs": [],
   "source": []
  },
  {
   "cell_type": "code",
   "execution_count": null,
   "metadata": {},
   "outputs": [],
   "source": []
  },
  {
   "cell_type": "code",
   "execution_count": null,
   "metadata": {},
   "outputs": [],
   "source": []
  },
  {
   "cell_type": "code",
   "execution_count": null,
   "metadata": {},
   "outputs": [],
   "source": []
  },
  {
   "cell_type": "code",
   "execution_count": null,
   "metadata": {},
   "outputs": [],
   "source": []
  },
  {
   "cell_type": "code",
   "execution_count": null,
   "metadata": {},
   "outputs": [],
   "source": []
  },
  {
   "cell_type": "code",
   "execution_count": null,
   "metadata": {},
   "outputs": [],
   "source": []
  },
  {
   "cell_type": "code",
   "execution_count": null,
   "metadata": {},
   "outputs": [],
   "source": []
  },
  {
   "cell_type": "code",
   "execution_count": null,
   "metadata": {},
   "outputs": [],
   "source": []
  },
  {
   "cell_type": "code",
   "execution_count": null,
   "metadata": {},
   "outputs": [],
   "source": []
  },
  {
   "cell_type": "code",
   "execution_count": null,
   "metadata": {},
   "outputs": [],
   "source": []
  },
  {
   "cell_type": "code",
   "execution_count": null,
   "metadata": {},
   "outputs": [],
   "source": []
  },
  {
   "cell_type": "code",
   "execution_count": null,
   "metadata": {},
   "outputs": [],
   "source": []
  },
  {
   "cell_type": "code",
   "execution_count": null,
   "metadata": {},
   "outputs": [],
   "source": []
  },
  {
   "cell_type": "code",
   "execution_count": null,
   "metadata": {},
   "outputs": [],
   "source": []
  },
  {
   "cell_type": "code",
   "execution_count": null,
   "metadata": {},
   "outputs": [],
   "source": []
  },
  {
   "cell_type": "code",
   "execution_count": null,
   "metadata": {},
   "outputs": [],
   "source": []
  },
  {
   "cell_type": "code",
   "execution_count": null,
   "metadata": {},
   "outputs": [],
   "source": []
  },
  {
   "cell_type": "code",
   "execution_count": null,
   "metadata": {},
   "outputs": [],
   "source": []
  },
  {
   "cell_type": "code",
   "execution_count": null,
   "metadata": {},
   "outputs": [],
   "source": []
  },
  {
   "cell_type": "code",
   "execution_count": null,
   "metadata": {},
   "outputs": [],
   "source": []
  },
  {
   "cell_type": "code",
   "execution_count": null,
   "metadata": {},
   "outputs": [],
   "source": []
  },
  {
   "cell_type": "code",
   "execution_count": null,
   "metadata": {},
   "outputs": [],
   "source": []
  },
  {
   "cell_type": "code",
   "execution_count": null,
   "metadata": {},
   "outputs": [],
   "source": []
  },
  {
   "cell_type": "code",
   "execution_count": null,
   "metadata": {},
   "outputs": [],
   "source": []
  },
  {
   "cell_type": "code",
   "execution_count": null,
   "metadata": {},
   "outputs": [],
   "source": []
  },
  {
   "cell_type": "code",
   "execution_count": null,
   "metadata": {},
   "outputs": [],
   "source": []
  },
  {
   "cell_type": "code",
   "execution_count": null,
   "metadata": {},
   "outputs": [],
   "source": []
  },
  {
   "cell_type": "code",
   "execution_count": null,
   "metadata": {},
   "outputs": [],
   "source": []
  },
  {
   "cell_type": "code",
   "execution_count": null,
   "metadata": {},
   "outputs": [],
   "source": []
  },
  {
   "cell_type": "code",
   "execution_count": null,
   "metadata": {},
   "outputs": [],
   "source": []
  },
  {
   "cell_type": "code",
   "execution_count": null,
   "metadata": {},
   "outputs": [],
   "source": []
  },
  {
   "cell_type": "code",
   "execution_count": null,
   "metadata": {},
   "outputs": [],
   "source": []
  },
  {
   "cell_type": "code",
   "execution_count": null,
   "metadata": {},
   "outputs": [],
   "source": []
  },
  {
   "cell_type": "code",
   "execution_count": null,
   "metadata": {},
   "outputs": [],
   "source": []
  },
  {
   "cell_type": "code",
   "execution_count": null,
   "metadata": {},
   "outputs": [],
   "source": []
  }
 ],
 "metadata": {
  "kernelspec": {
   "display_name": "Python 3",
   "language": "python",
   "name": "python3"
  },
  "language_info": {
   "codemirror_mode": {
    "name": "ipython",
    "version": 3
   },
   "file_extension": ".py",
   "mimetype": "text/x-python",
   "name": "python",
   "nbconvert_exporter": "python",
   "pygments_lexer": "ipython3",
   "version": "3.7.4"
  }
 },
 "nbformat": 4,
 "nbformat_minor": 2
}

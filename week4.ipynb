{
 "cells": [
  {
   "cell_type": "markdown",
   "metadata": {},
   "source": [
    "## Collaborative filtering\n",
    "\n",
    "### 1. Neighborhood based (Memory based)\n",
    "- UserCF\n",
    "- ItemCF\n",
    "\n",
    "### 2. Model based\n",
    "#### 2.1 Laten Factor Model (LFM)\n",
    "- a. factors are related to users' preference and products which are based on auto clustering\n",
    "- b. ranged in numbers of laten factors and detailedness \n",
    "##### 2.1.1 Matrix Factorization\n",
    "- a. Matrix (NxM) -> User_matrix x  item_matrix  \n",
    "\n",
    "- $ User\\_matrix = [x_1, x_2, x_3, x_4, ... x_n] $\n",
    "- $ Item\\_matrix = [y_1, y_2, y_3, ....., y_n] $\n",
    "- $ \\min_{x,y}\\sum(r_{ui}- x_u^Ty_i)^2+ \\lambda(\\sum_u ||x_u||_2^2 + \\sum||y_i||_2^2) $ (prevent overfitting)\n",
    "##### 2.1.2 LDA LSA pLSA\n",
    "#### 2.2 Bayes' theorem network\n",
    "#### 2.3 SVM\n",
    "\n",
    "## Alternating Least Squares -- optimization \n",
    "(linear regression / nonlinear regression)\n",
    "\n",
    "### 1. $ E = \\sum_{i=1}^{n}{e_i}^2 = \\sum_{i=1}^{n}(y_i - \\hat{x})^2 $\n",
    "##### 2.   $ y = \\frac{d}{dy}\\sum_{i=1}^{n}{e_i}^2 = 2\\sum_{i=1}^{n}(y_i - \\hat{x}) = 0 $ \n",
    "##### 3.  $ y = \\frac{1}{n}\\sum_{i=1}^{n}y_i $\n",
    "##### 4.  $ x_u = (Y_uY_u^t + \\lambda I )^{-1} Y_uR_u $\n",
    "\n",
    "\n",
    "\n",
    "## 3. Application \n",
    "### 3.1 Rating  Prediction\n",
    "### 3.2 Item Ranking (Top N)"
   ]
  },
  {
   "cell_type": "code",
   "execution_count": null,
   "metadata": {},
   "outputs": [],
   "source": []
  }
 ],
 "metadata": {
  "kernelspec": {
   "display_name": "Python 3",
   "language": "python",
   "name": "python3"
  },
  "language_info": {
   "codemirror_mode": {
    "name": "ipython",
    "version": 3
   },
   "file_extension": ".py",
   "mimetype": "text/x-python",
   "name": "python",
   "nbconvert_exporter": "python",
   "pygments_lexer": "ipython3",
   "version": "3.7.4"
  }
 },
 "nbformat": 4,
 "nbformat_minor": 2
}

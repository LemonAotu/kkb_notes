{
 "cells": [
  {
   "cell_type": "markdown",
   "metadata": {},
   "source": [
    "## Collaborative filtering\n",
    "\n",
    "### 1. Neighborhood based (Memory based)\n",
    "- UserCF\n",
    "- ItemCF\n",
    "\n",
    "### 2. Model based\n",
    "#### 2.1 Laten Factor Model (LFM)\n",
    "- a. factors are related to users' preference and products which are based on auto clustering\n",
    "- b. ranged in numbers of laten factors and detailedness \n",
    "##### 2.1.1 Matrix Factorization\n",
    "\n",
    "\n",
    "##### 2.1.2 LDA LSA pLSA\n",
    "#### 2.2 Bayes' theorem network\n",
    "#### 2.3 SVM\n",
    "\n",
    "## Alternating Least Squares -- optimization \n",
    "(linear regression / nonlinear regression)\n",
    "### Suprise \n",
    "\n",
    "### LightFM\n",
    "\n",
    "## 3. Application \n",
    "### 3.1 Rating  Prediction\n",
    "### 3.2 Item Ranking (Top N)"
   ]
  },
  {
   "cell_type": "code",
   "execution_count": null,
   "metadata": {},
   "outputs": [],
   "source": []
  }
 ],
 "metadata": {
  "kernelspec": {
   "display_name": "Python 3",
   "language": "python",
   "name": "python3"
  },
  "language_info": {
   "codemirror_mode": {
    "name": "ipython",
    "version": 3
   },
   "file_extension": ".py",
   "mimetype": "text/x-python",
   "name": "python",
   "nbconvert_exporter": "python",
   "pygments_lexer": "ipython3",
   "version": "3.7.4"
  }
 },
 "nbformat": 4,
 "nbformat_minor": 2
}

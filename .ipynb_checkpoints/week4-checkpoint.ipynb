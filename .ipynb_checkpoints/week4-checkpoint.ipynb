{
 "cells": [
  {
   "cell_type": "markdown",
   "metadata": {},
   "source": [
    "## Collaborative filtering\n",
    "\n",
    "### 1. Neighborhood based (Memory based)\n",
    "- UserCF\n",
    "- ItemCF\n",
    "\n",
    "### 2. Model based\n",
    "#### 2.1 Laten Factor Model (LFM)\n",
    "- a. factors are related to users' preference and products which are based on auto clustering\n",
    "- b. ranged in numbers of laten factors and detailedness \n",
    "##### 2.1.1 Matrix Factorization\n",
    "- a. Matrix (NxM) -> User_matrix x  item_matrix  \n",
    "\n",
    "- $ User\\_matrix = [x_1, x_2, x_3, x_4, ... x_n] $\n",
    "- $ Item\\_matrix = [y_1, y_2, y_3, ....., y_n] $\n",
    "- $ \\min_{x,y}\\sum(r_{ui}- x_u^Ty_i)^2+ \\lambda(\\sum_u ||x_u||_2^2 + \\sum||y_i||_2^2) $ (prevent overfitting)\n",
    "##### 2.1.2 LDA LSA pLSA\n",
    "#### 2.2 Bayes' theorem network\n",
    "#### 2.3 SVM\n",
    "\n",
    "## Alternating Least Squares -- optimization \n",
    "(linear regression / nonlinear regression)\n",
    "\n",
    "### 1. $ E = \\sum_{i=1}^{n}{e_i}^2 = \\sum_{i=1}^{n}(y_i - \\hat{x})^2 $\n",
    "##### 2.   $ y = \\frac{d}{dy}\\sum_{i=1}^{n}{e_i}^2 = 2\\sum_{i=1}^{n}(y_i - \\hat{x}) = 0 $ \n",
    "##### 3.  $ y = \\frac{1}{n}\\sum_{i=1}^{n}y_i $\n",
    "##### 4.  $ x_u = (Y_uY_u^t + \\lambda I )^{-1} Y_uR_u $\n",
    "\n",
    "### Evaluation\n",
    " ###### 1. RMSE =  $ \\sqrt{\\frac{1}{|\\hat{R}|} \\sum_{\\hat{r}\\in R}r_{ui}- \\hat{r_{ui}}} $ \n",
    " ###### 2. MSE =  $ \\frac{1}{\\hat{R}}\\sum_{\\hat{r}\\in R}(r_{ui}- \\hat{r_{ui}})^2 $ \n",
    " ###### 3. MAE = $ \\frac{1}{\\hat{R}}\\sum_{\\hat{r}\\in R}|r_{ui}- \\hat{r_{ui}|} $\n",
    "\n",
    "## 3. Application \n",
    "### 3.1 Rating  Prediction\n",
    "### 3.2 Item Ranking (Top N)"
   ]
  },
  {
   "cell_type": "code",
   "execution_count": 12,
   "metadata": {},
   "outputs": [
    {
     "name": "stdout",
     "output_type": "stream",
     "text": [
      "we have 1048575 ratings\n",
      "the number of unique users we have is: 7120\n",
      "the number of unique movies we have is: 14026\n",
      "The median user rated 69 movies.\n",
      "The max rating is: 5 the min rating is: 0\n"
     ]
    },
    {
     "data": {
      "text/html": [
       "<div>\n",
       "<style scoped>\n",
       "    .dataframe tbody tr th:only-of-type {\n",
       "        vertical-align: middle;\n",
       "    }\n",
       "\n",
       "    .dataframe tbody tr th {\n",
       "        vertical-align: top;\n",
       "    }\n",
       "\n",
       "    .dataframe thead th {\n",
       "        text-align: right;\n",
       "    }\n",
       "</style>\n",
       "<table border=\"1\" class=\"dataframe\">\n",
       "  <thead>\n",
       "    <tr style=\"text-align: right;\">\n",
       "      <th></th>\n",
       "      <th>userId</th>\n",
       "      <th>movieId</th>\n",
       "      <th>rating</th>\n",
       "    </tr>\n",
       "  </thead>\n",
       "  <tbody>\n",
       "    <tr>\n",
       "      <td>0</td>\n",
       "      <td>1</td>\n",
       "      <td>2</td>\n",
       "      <td>3.5</td>\n",
       "    </tr>\n",
       "    <tr>\n",
       "      <td>1</td>\n",
       "      <td>1</td>\n",
       "      <td>29</td>\n",
       "      <td>3.5</td>\n",
       "    </tr>\n",
       "    <tr>\n",
       "      <td>2</td>\n",
       "      <td>1</td>\n",
       "      <td>32</td>\n",
       "      <td>3.5</td>\n",
       "    </tr>\n",
       "    <tr>\n",
       "      <td>3</td>\n",
       "      <td>1</td>\n",
       "      <td>47</td>\n",
       "      <td>3.5</td>\n",
       "    </tr>\n",
       "    <tr>\n",
       "      <td>4</td>\n",
       "      <td>1</td>\n",
       "      <td>50</td>\n",
       "      <td>3.5</td>\n",
       "    </tr>\n",
       "  </tbody>\n",
       "</table>\n",
       "</div>"
      ],
      "text/plain": [
       "   userId  movieId  rating\n",
       "0       1        2     3.5\n",
       "1       1       29     3.5\n",
       "2       1       32     3.5\n",
       "3       1       47     3.5\n",
       "4       1       50     3.5"
      ]
     },
     "execution_count": 12,
     "metadata": {},
     "output_type": "execute_result"
    }
   ],
   "source": [
    "\n",
    "import surprise\n",
    "import numpy as np # linear algebra\n",
    "import pandas as pd # data processing, CSV file I/O (e.g. pd.read_csv)\n",
    "from sklearn.model_selection import train_test_split\n",
    "\n",
    "raw=pd.read_csv('ratings.csv')\n",
    "raw.drop_duplicates(inplace=True)\n",
    "print('we have',raw.shape[0], 'ratings')\n",
    "print('the number of unique users we have is:', len(raw.userId.unique()))\n",
    "print('the number of unique movies we have is:', len(raw.movieId.unique()))\n",
    "print(\"The median user rated %d movies.\"%raw.userId.value_counts().median())\n",
    "print('The max rating is: %d'%raw.rating.max(),\"the min rating is: %d\"%raw.rating.min())\n",
    "raw = raw.drop(labels=\"timestamp\",axis=1)\n",
    "raw.head()\n"
   ]
  },
  {
   "cell_type": "code",
   "execution_count": 14,
   "metadata": {},
   "outputs": [],
   "source": [
    "rawTrain,rawholdout = train_test_split(raw, test_size=0.25 )\n",
    "# when importing from a DF, you only need to specify the scale of the ratings.\n",
    "reader = surprise.Reader(rating_scale=(1,5)) \n",
    "#into surprise:\n",
    "data = surprise.Dataset.load_from_df(rawTrain,reader)\n",
    "holdout = surprise.Dataset.load_from_df(rawholdout,reader)\n",
    "kSplit = surprise.model_selection.split.KFold(n_splits=10, shuffle=True)"
   ]
  },
  {
   "cell_type": "code",
   "execution_count": 15,
   "metadata": {},
   "outputs": [
    {
     "name": "stdout",
     "output_type": "stream",
     "text": [
      "Computing the cosine similarity matrix...\n",
      "Done computing similarity matrix.\n",
      "RMSE: 0.9650\n",
      "Computing the cosine similarity matrix...\n",
      "Done computing similarity matrix.\n",
      "RMSE: 0.9573\n",
      "Computing the cosine similarity matrix...\n",
      "Done computing similarity matrix.\n",
      "RMSE: 0.9606\n",
      "Computing the cosine similarity matrix...\n",
      "Done computing similarity matrix.\n",
      "RMSE: 0.9608\n",
      "Computing the cosine similarity matrix...\n",
      "Done computing similarity matrix.\n",
      "RMSE: 0.9595\n",
      "Computing the cosine similarity matrix...\n",
      "Done computing similarity matrix.\n",
      "RMSE: 0.9598\n",
      "Computing the cosine similarity matrix...\n",
      "Done computing similarity matrix.\n",
      "RMSE: 0.9635\n",
      "Computing the cosine similarity matrix...\n",
      "Done computing similarity matrix.\n",
      "RMSE: 0.9621\n",
      "Computing the cosine similarity matrix...\n",
      "Done computing similarity matrix.\n",
      "RMSE: 0.9602\n",
      "Computing the cosine similarity matrix...\n",
      "Done computing similarity matrix.\n",
      "RMSE: 0.9637\n"
     ]
    }
   ],
   "source": [
    "sim_options = sim_options = {'name': 'cosine',\n",
    "               'user_based': False  # compute  similarities between items\n",
    "               }\n",
    "collabKNN = surprise.KNNBasic(k=40,sim_options=sim_options) #try removing sim_options. You'll find memory errors. \n",
    "rmseKNN = []\n",
    "rmseSVD = []\n",
    "rmseCo = []\n",
    "rmseSlope = []\n",
    "for trainset, testset in kSplit.split(data): #iterate through the folds.\n",
    "    collabKNN.fit(trainset)\n",
    "    predictionsKNN = collabKNN.test(testset)\n",
    "    rmseKNN.append(surprise.accuracy.rmse(predictionsKNN,verbose=True))#get root means squared error"
   ]
  },
  {
   "cell_type": "code",
   "execution_count": 17,
   "metadata": {},
   "outputs": [
    {
     "name": "stdout",
     "output_type": "stream",
     "text": [
      "RMSE: 0.8740\n",
      "RMSE: 0.8652\n",
      "RMSE: 0.8644\n",
      "RMSE: 0.8691\n",
      "RMSE: 0.8701\n",
      "RMSE: 0.8690\n",
      "RMSE: 0.8671\n",
      "RMSE: 0.8686\n",
      "RMSE: 0.8640\n",
      "RMSE: 0.8657\n"
     ]
    }
   ],
   "source": [
    "#slopeone\n",
    "slopeOne = surprise.prediction_algorithms.slope_one.SlopeOne()\n",
    "for trainset, testset in kSplit.split(data): #iterate through the folds.\n",
    "    slopeOne.fit(trainset)\n",
    "    predictionsSlope = slopeOne.test(testset)\n",
    "    rmseSlope.append(surprise.accuracy.rmse(predictionsSlope,verbose=True))"
   ]
  },
  {
   "cell_type": "code",
   "execution_count": 19,
   "metadata": {},
   "outputs": [
    {
     "data": {
      "text/plain": [
       "<matplotlib.legend.Legend at 0x2b1d1c9a0f50>"
      ]
     },
     "execution_count": 19,
     "metadata": {},
     "output_type": "execute_result"
    },
    {
     "data": {
      "image/png": "[encoded data removed]",
      "text/plain": [
       "<Figure size 432x288 with 1 Axes>"
      ]
     },
     "metadata": {
      "needs_background": "light"
     },
     "output_type": "display_data"
    }
   ],
   "source": [
    "import matplotlib.pyplot as plt\n",
    "\n",
    "modelPrediction = plt.plot(rmseKNN,label='knn')\n",
    "#     modelPrediction = plt.plot(rmseSVD,label='svd')\n",
    "#     modelPrediction = plt.plot(rmseCo,label='cluster')\n",
    "modelPrediction = plt.plot(rmseSlope,label='slope')\n",
    "\n",
    "modelPrediction = plt.xlabel('folds')\n",
    "modelPrediction = plt.ylabel('accuracy')\n",
    "plt.legend(bbox_to_anchor=(1.05, 1), loc=2, borderaxespad=0.)"
   ]
  },
  {
   "cell_type": "code",
   "execution_count": null,
   "metadata": {},
   "outputs": [],
   "source": []
  }
 ],
 "metadata": {
  "kernelspec": {
   "display_name": "Python 3",
   "language": "python",
   "name": "python3"
  },
  "language_info": {
   "codemirror_mode": {
    "name": "ipython",
    "version": 3
   },
   "file_extension": ".py",
   "mimetype": "text/x-python",
   "name": "python",
   "nbconvert_exporter": "python",
   "pygments_lexer": "ipython3",
   "version": "3.7.4"
  }
 },
 "nbformat": 4,
 "nbformat_minor": 2
}
